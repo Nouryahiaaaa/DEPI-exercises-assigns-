{
  "nbformat": 4,
  "nbformat_minor": 0,
  "metadata": {
    "colab": {
      "provenance": [],
      "authorship_tag": "ABX9TyPecaQ6trXvFm5Ub0Eqvsjw",
      "include_colab_link": true
    },
    "kernelspec": {
      "name": "python3",
      "display_name": "Python 3"
    },
    "language_info": {
      "name": "python"
    }
  },
  "cells": [
    {
      "cell_type": "markdown",
      "metadata": {
        "id": "view-in-github",
        "colab_type": "text"
      },
      "source": [
        "<a href=\"https://colab.research.google.com/github/Nouryahiaaaa/DEPI-exercises-assigns-/blob/main/Untitled3.ipynb\" target=\"_parent\"><img src=\"https://colab.research.google.com/assets/colab-badge.svg\" alt=\"Open In Colab\"/></a>"
      ]
    },
    {
      "cell_type": "code",
      "execution_count": 5,
      "metadata": {
        "colab": {
          "base_uri": "https://localhost:8080/"
        },
        "id": "tzA63Z_CCHTa",
        "outputId": "77083ae4-6bfa-4095-edec-48ef45bc7892"
      },
      "outputs": [
        {
          "output_type": "stream",
          "name": "stdout",
          "text": [
            "Brute Force: 4\n"
          ]
        }
      ],
      "source": [
        "def count_anagrams_brute_force(s):\n",
        "    from collections import Counter\n",
        "    n = len(s)\n",
        "    count = 0\n",
        "\n",
        "    for length in range(1, n):\n",
        "        for i in range(n - length + 1):\n",
        "            substr1 = s[i:i+length]\n",
        "            for j in range(i + 1, n - length + 1):\n",
        "                substr2 = s[j:j+length]\n",
        "                if Counter(substr1) == Counter(substr2):\n",
        "                    count += 1\n",
        "    return count\n",
        "\n",
        "# Example test\n",
        "print(\"Brute Force:\", count_anagrams_brute_force(\"abba\"))\n"
      ]
    },
    {
      "cell_type": "markdown",
      "source": [
        "Divide and conquer\n"
      ],
      "metadata": {
        "id": "AYaK2GiCCRyD"
      }
    },
    {
      "cell_type": "code",
      "source": [
        "def count_anagrams_dc(s):\n",
        "    from collections import defaultdict\n",
        "\n",
        "    def count_pairs(start, end):\n",
        "        count = 0\n",
        "        freq_map = defaultdict(int)\n",
        "        for i in range(start, end):\n",
        "            substr = \"\"\n",
        "            for j in range(i, end):\n",
        "                substr = ''.join(sorted(substr + s[j]))\n",
        "                freq_map[substr] += 1\n",
        "        for val in freq_map.values():\n",
        "            count += val * (val - 1) // 2\n",
        "        return count\n",
        "\n",
        "    def divide_conquer(start, end):\n",
        "        if end - start <= 1:\n",
        "            return 0\n",
        "        mid = (start + end) // 2\n",
        "        return (\n",
        "            divide_conquer(start, mid)\n",
        "            + divide_conquer(mid, end)\n",
        "            + count_pairs(start, end)\n",
        "        )\n",
        "\n",
        "    return divide_conquer(0, len(s))\n",
        "\n",
        "# Example\n",
        "print(\"Divide and Conquer:\", count_anagrams_dc(\"abba\"))\n"
      ],
      "metadata": {
        "colab": {
          "base_uri": "https://localhost:8080/"
        },
        "id": "xyrwa25FCVdF",
        "outputId": "ad8eaafd-433e-432e-97c7-62033ffc5220"
      },
      "execution_count": 6,
      "outputs": [
        {
          "output_type": "stream",
          "name": "stdout",
          "text": [
            "Divide and Conquer: 4\n"
          ]
        }
      ]
    },
    {
      "cell_type": "markdown",
      "source": [
        "Transform and conquer\n"
      ],
      "metadata": {
        "id": "S7QU_IyXCaqK"
      }
    },
    {
      "cell_type": "code",
      "source": [
        "def count_anagrams_transform_and_conquer(s):\n",
        "    from collections import defaultdict\n",
        "    n = len(s)\n",
        "    freq_map = defaultdict(int)\n",
        "\n",
        "    for i in range(n):\n",
        "        substr = \"\"\n",
        "        for j in range(i, n):\n",
        "            substr = ''.join(sorted(substr + s[j]))\n",
        "            freq_map[substr] += 1\n",
        "\n",
        "    count = 0\n",
        "    for val in freq_map.values():\n",
        "        count += val * (val - 1) // 2\n",
        "    return count\n",
        "\n",
        "# Example\n",
        "print(\"Transform and Conquer:\", count_anagrams_transform_and_conquer(\"abba\"))\n"
      ],
      "metadata": {
        "colab": {
          "base_uri": "https://localhost:8080/"
        },
        "id": "BGQgQPDkCcnV",
        "outputId": "54c60e29-b5fe-4e2d-875c-b47b77963c1f"
      },
      "execution_count": 7,
      "outputs": [
        {
          "output_type": "stream",
          "name": "stdout",
          "text": [
            "Transform and Conquer: 4\n"
          ]
        }
      ]
    },
    {
      "cell_type": "markdown",
      "source": [
        "Test"
      ],
      "metadata": {
        "id": "njvCq3-ICd4E"
      }
    },
    {
      "cell_type": "code",
      "source": [
        "if __name__ == \"__main__\":\n",
        "    s = \"abba\"\n",
        "    print(\"Brute Force:\", count_anagrams_brute_force(s))\n",
        "    print(\"Divide and Conquer:\", count_anagrams_dc(s))\n",
        "    print(\"Transform and Conquer:\", count_anagrams_transform_and_conquer(s))\n"
      ],
      "metadata": {
        "colab": {
          "base_uri": "https://localhost:8080/"
        },
        "id": "Evvnk2caCe37",
        "outputId": "7c9e5ba1-7694-43e5-9d8f-d1f823e5f97a"
      },
      "execution_count": 8,
      "outputs": [
        {
          "output_type": "stream",
          "name": "stdout",
          "text": [
            "Brute Force: 4\n",
            "Divide and Conquer: 4\n",
            "Transform and Conquer: 4\n"
          ]
        }
      ]
    }
  ]
}